{
 "cells": [
  {
   "metadata": {},
   "cell_type": "markdown",
   "source": "# Dataset analyse",
   "id": "7c6f58b956696c16"
  },
  {
   "cell_type": "code",
   "id": "initial_id",
   "metadata": {
    "collapsed": true,
    "ExecuteTime": {
     "end_time": "2025-04-18T13:28:30.082422Z",
     "start_time": "2025-04-18T13:28:30.067969Z"
    }
   },
   "source": [
    "import pandas as pd\n",
    "import matplotlib.pyplot as plt\n",
    "from scipy.constants import precision\n",
    "from sklearn.model_selection import train_test_split\n",
    "\n",
    "\n",
    "df = pd.read_csv(\"graduation_train.csv\")\n",
    "\n",
    "for colum in df.columns:\n",
    "    df = df[df[colum] != \"\"]\n",
    "\n",
    "df[\"curricular_units_1st_sem_grade_rounded\"] = df[\"curricular_units_1st_sem_grade\"].round(0)\n",
    "df[\"curricular_units_2nd_sem_grade_rounded\"] = df[\"curricular_units_2nd_sem_grade\"].round(0)\n",
    "\n",
    "print(df.columns.tolist())\n",
    "\n",
    "train_df, test_df = train_test_split(df, test_size=0.2)\n",
    "# df = df[df[\"InvoiceDate\"] < pd.Timestamp('today')]#remove purchases in the future\n",
    "# df = df[df.Invoice.str.isnumeric()]#remove all Invoices that are not numbers\n",
    "# #df = df[df.StockCode.str.isnumeric()]#remove all StockCodes that are not numbers not all stock codes are intigers\n",
    "# df = df[pd.to_numeric(df.Price, errors='coerce').notnull()]\n",
    "# df[\"Customer ID\"] = pd.to_numeric(df[\"Customer ID\"], errors=\"raise\", downcast='integer')\n",
    "# df = df[pd.to_numeric(df[\"Customer ID\"], errors='coerce', downcast='integer').notnull()]\n",
    "# df = df[df.duplicated(subset=[\"StockCode\", \"Description\"], keep=False)]#remove inconsistent row between stockcode and description\n",
    "#\n",
    "# print(df)\n",
    "\n",
    "#https://scikit-learn.org/stable/modules/ensemble.html\n"
   ],
   "outputs": [
    {
     "name": "stdout",
     "output_type": "stream",
     "text": [
      "['student_id', 'marital_status', 'application_mode', 'application_order', 'course', 'attendance_type', 'previous_qualification', 'nationality', 'mother_qualification', 'father_qualification', 'mother_occupation', 'father_occupation', 'displaced', 'special_needs', 'debtor', 'tuition_fees_up_to_date', 'gender', 'scholarship_holder', 'age_at_enrollment', 'international', 'curricular_units_1st_sem_credited', 'curricular_units_1st_sem_enrolled', 'curricular_units_1st_sem_evaluations', 'curricular_units_1st_sem_approved', 'curricular_units_1st_sem_grade', 'curricular_units_1st_sem_without_evaluations', 'curricular_units_2nd_sem_credited', 'curricular_units_2nd_sem_enrolled', 'curricular_units_2nd_sem_evaluations', 'curricular_units_2nd_sem_approved', 'curricular_units_2nd_sem_grade', 'curricular_units_2nd_sem_without_evaluations', 'unemployment_rate', 'inflation_rate', 'gdp', 'target', 'curricular_units_1st_sem_grade_rounded', 'curricular_units_2nd_sem_grade_rounded']\n"
     ]
    }
   ],
   "execution_count": 3
  },
  {
   "metadata": {},
   "cell_type": "markdown",
   "source": "# Report",
   "id": "8decfdc7c279e13f"
  },
  {
   "metadata": {
    "ExecuteTime": {
     "end_time": "2025-04-18T13:28:31.591427Z",
     "start_time": "2025-04-18T13:28:31.543839Z"
    }
   },
   "cell_type": "code",
   "source": [
    "from sklearn.metrics import confusion_matrix, RocCurveDisplay\n",
    "import graphviz\n",
    "from sklearn import tree\n",
    "from sklearn import metrics\n",
    "from sklearn.metrics import (\n",
    "    accuracy_score,\n",
    "    roc_auc_score,\n",
    "    precision_score,\n",
    "    recall_score,\n",
    "    classification_report,\n",
    "    confusion_matrix,\n",
    "    roc_curve\n",
    ")\n",
    "\n",
    "def report(title, test_items, pass_df, clf):\n",
    "    print(f\"==={title}===\")\n",
    "    predictions = clf.predict(test_items)\n",
    "    y_pred_proba = clf.predict_proba(test_items)[:, 1]  # Probabilities for AUC\n",
    "\n",
    "    # 1. Accuracy\n",
    "    accuracy = accuracy_score(pass_df[\"target\"], predictions)\n",
    "\n",
    "    # 2. AUC\n",
    "    auc = roc_auc_score(pass_df[\"target\"], y_pred_proba)\n",
    "\n",
    "    # 3. Precision & Recall for both classes\n",
    "    precision_0 = precision_score(pass_df[\"target\"], predictions, pos_label=0)\n",
    "    recall_0 = recall_score(pass_df[\"target\"], predictions, pos_label=0)\n",
    "    precision_1 = precision_score(pass_df[\"target\"], predictions, pos_label=1)\n",
    "    recall_1 = recall_score(pass_df[\"target\"], predictions, pos_label=1)\n",
    "\n",
    "    # 4. Full classification report (optional but useful)\n",
    "    report = classification_report(pass_df[\"target\"], predictions)\n",
    "\n",
    "    # Output everything\n",
    "    print(\"=== Metrics Report ===\")\n",
    "    print(f\"Accuracy: {accuracy:.4f}\")\n",
    "    print(f\"AUC: {auc:.4f}\")\n",
    "    print(f\"Precision (Class 0): {precision_0:.4f}\")\n",
    "    print(f\"Recall (Class 0):    {recall_0:.4f}\")\n",
    "    print(f\"Precision (Class 1): {precision_1:.4f}\")\n",
    "    print(f\"Recall (Class 1):    {recall_1:.4f}\")\n",
    "    print(\"\\nFull Classification Report:\")\n",
    "    print(report)\n",
    "\n"
   ],
   "id": "bb8decab0c8c7ee0",
   "outputs": [],
   "execution_count": 4
  },
  {
   "metadata": {},
   "cell_type": "markdown",
   "source": "## load train data\n",
   "id": "d1b3f554aecd019a"
  },
  {
   "metadata": {
    "ExecuteTime": {
     "end_time": "2025-04-18T13:28:33.636159Z",
     "start_time": "2025-04-18T13:28:33.632802Z"
    }
   },
   "cell_type": "code",
   "source": [
    "colums = [\"curricular_units_1st_sem_grade_rounded\", \"curricular_units_1st_sem_evaluations\", \"curricular_units_1st_sem_approved\",\n",
    "          \"curricular_units_2nd_sem_grade_rounded\", \"curricular_units_2nd_sem_evaluations\", \"curricular_units_2nd_sem_approved\",\n",
    "          \"course\", \"previous_qualification\", \"special_needs\"]\n",
    "\n",
    "X = train_df[colums].values.tolist()\n",
    "Y = list(train_df[\"target\"])"
   ],
   "id": "55a02baae38204ac",
   "outputs": [],
   "execution_count": 5
  },
  {
   "metadata": {},
   "cell_type": "markdown",
   "source": "## decision_tree",
   "id": "6c50bb92bcab84f"
  },
  {
   "metadata": {
    "ExecuteTime": {
     "end_time": "2025-04-18T13:36:12.098093Z",
     "start_time": "2025-04-18T13:36:11.890497Z"
    }
   },
   "cell_type": "code",
   "source": [
    "colums = [col for col in df.columns if col != \"target\"]\n",
    "\n",
    "X = train_df[colums].values.tolist()\n",
    "Y = list(train_df[\"target\"])\n",
    "\n",
    "decision_tree_classifier = tree.DecisionTreeClassifier()\n",
    "clf = decision_tree_classifier.fit(X, Y)\n",
    "\n",
    "\n",
    "dot_data = tree.export_graphviz(\n",
    "    clf,\n",
    "    out_file=None,\n",
    "    feature_names=colums,\n",
    "    class_names=[\"Passed\", \"Drop out\"],\n",
    "    filled=True,\n",
    "    rounded=True,\n",
    "    special_characters=True\n",
    ")\n",
    "\n",
    "graph = graphviz.Source(dot_data)\n",
    "graph.render(\"decision_tree\")  # Saves as 'decision_tree.pdf'\n",
    "graph.view()  # Opens the tree\n",
    "\n",
    "report(\"decision_tree\", test_df[colums].values.tolist(), test_df, decision_tree_classifier)"
   ],
   "id": "b62abc5cd51d7d9a",
   "outputs": [
    {
     "name": "stdout",
     "output_type": "stream",
     "text": [
      "===decision_tree===\n",
      "=== Metrics Report ===\n",
      "Accuracy: 0.8330\n",
      "AUC: 0.8295\n",
      "Precision (Class 0): 0.7265\n",
      "Recall (Class 0):    0.8182\n",
      "Precision (Class 1): 0.8994\n",
      "Recall (Class 1):    0.8407\n",
      "\n",
      "Full Classification Report:\n",
      "              precision    recall  f1-score   support\n",
      "\n",
      "           0       0.73      0.82      0.77       198\n",
      "           1       0.90      0.84      0.87       383\n",
      "\n",
      "    accuracy                           0.83       581\n",
      "   macro avg       0.81      0.83      0.82       581\n",
      "weighted avg       0.84      0.83      0.84       581\n",
      "\n"
     ]
    }
   ],
   "execution_count": 22
  },
  {
   "metadata": {},
   "cell_type": "markdown",
   "source": "## NearestNeighbor",
   "id": "e15908b97c2aa8bf"
  },
  {
   "metadata": {
    "ExecuteTime": {
     "end_time": "2025-04-18T09:45:24.889375Z",
     "start_time": "2025-04-18T09:45:24.858580Z"
    }
   },
   "cell_type": "code",
   "source": [
    "from sklearn.pipeline import Pipeline\n",
    "from sklearn.preprocessing import StandardScaler\n",
    "from sklearn.neighbors import NearestNeighbors, KNeighborsClassifier\n",
    "import numpy as np\n",
    "\n",
    "knn_classifier = Pipeline(\n",
    "    steps=[(\"scaler\", StandardScaler()), (\"knn\", KNeighborsClassifier(n_neighbors=5))]\n",
    ")\n",
    "knn_classifier.fit(X, Y)\n",
    "report(\"decision_tree\", test_df[colums].values.tolist(), test_df, knn_classifier)"
   ],
   "id": "1fa60380cf7b2628",
   "outputs": [
    {
     "name": "stdout",
     "output_type": "stream",
     "text": [
      "===decision_tree===\n",
      "=== Metrics Report ===\n",
      "Accuracy: 0.8692\n",
      "AUC: 0.9181\n",
      "Precision (Class 0): 0.8877\n",
      "Recall (Class 0):    0.7511\n",
      "Precision (Class 1): 0.8604\n",
      "Recall (Class 1):    0.9417\n",
      "\n",
      "Full Classification Report:\n",
      "              precision    recall  f1-score   support\n",
      "\n",
      "           0       0.89      0.75      0.81       221\n",
      "           1       0.86      0.94      0.90       360\n",
      "\n",
      "    accuracy                           0.87       581\n",
      "   macro avg       0.87      0.85      0.86       581\n",
      "weighted avg       0.87      0.87      0.87       581\n",
      "\n"
     ]
    }
   ],
   "execution_count": 5
  },
  {
   "metadata": {},
   "cell_type": "markdown",
   "source": "## naive bayes",
   "id": "657231c1d7b9a59"
  },
  {
   "metadata": {
    "ExecuteTime": {
     "end_time": "2025-04-18T09:45:24.913604Z",
     "start_time": "2025-04-18T09:45:24.902219Z"
    }
   },
   "cell_type": "code",
   "source": [
    "from sklearn.naive_bayes import GaussianNB\n",
    "\n",
    "gnb_classifier = GaussianNB()\n",
    "\n",
    "gnb_classifier.fit(X, Y)\n",
    "\n",
    "report(\"decision_tree\", test_df[colums].values.tolist(), test_df, gnb_classifier)"
   ],
   "id": "e43c7b99716458b4",
   "outputs": [
    {
     "name": "stdout",
     "output_type": "stream",
     "text": [
      "===decision_tree===\n",
      "=== Metrics Report ===\n",
      "Accuracy: 0.8107\n",
      "AUC: 0.8873\n",
      "Precision (Class 0): 0.8936\n",
      "Recall (Class 0):    0.5701\n",
      "Precision (Class 1): 0.7841\n",
      "Recall (Class 1):    0.9583\n",
      "\n",
      "Full Classification Report:\n",
      "              precision    recall  f1-score   support\n",
      "\n",
      "           0       0.89      0.57      0.70       221\n",
      "           1       0.78      0.96      0.86       360\n",
      "\n",
      "    accuracy                           0.81       581\n",
      "   macro avg       0.84      0.76      0.78       581\n",
      "weighted avg       0.83      0.81      0.80       581\n",
      "\n"
     ]
    }
   ],
   "execution_count": 6
  },
  {
   "metadata": {},
   "cell_type": "markdown",
   "source": "## ensemble method",
   "id": "a70666b121f41739"
  },
  {
   "metadata": {
    "ExecuteTime": {
     "end_time": "2025-04-18T09:45:24.984587Z",
     "start_time": "2025-04-18T09:45:24.950518Z"
    }
   },
   "cell_type": "code",
   "source": [
    "from sklearn.ensemble import RandomForestClassifier\n",
    "\n",
    "clf_classifier = RandomForestClassifier(n_estimators=10)\n",
    "clf_classifier.fit(X, Y)\n",
    "report(\"decision_tree\", test_df[colums].values.tolist(), test_df, clf_classifier)"
   ],
   "id": "b543a5959806ff8a",
   "outputs": [
    {
     "name": "stdout",
     "output_type": "stream",
     "text": [
      "===decision_tree===\n",
      "=== Metrics Report ===\n",
      "Accuracy: 0.8692\n",
      "AUC: 0.9272\n",
      "Precision (Class 0): 0.8469\n",
      "Recall (Class 0):    0.8009\n",
      "Precision (Class 1): 0.8817\n",
      "Recall (Class 1):    0.9111\n",
      "\n",
      "Full Classification Report:\n",
      "              precision    recall  f1-score   support\n",
      "\n",
      "           0       0.85      0.80      0.82       221\n",
      "           1       0.88      0.91      0.90       360\n",
      "\n",
      "    accuracy                           0.87       581\n",
      "   macro avg       0.86      0.86      0.86       581\n",
      "weighted avg       0.87      0.87      0.87       581\n",
      "\n"
     ]
    }
   ],
   "execution_count": 7
  },
  {
   "metadata": {},
   "cell_type": "markdown",
   "source": "# clasifier tester",
   "id": "2947736b39c62150"
  },
  {
   "metadata": {
    "ExecuteTime": {
     "end_time": "2025-04-18T09:45:25.046889Z",
     "start_time": "2025-04-18T09:45:24.996940Z"
    }
   },
   "cell_type": "code",
   "source": [
    "from classifier_test_framework import ClassifierTestFramework\n",
    "import pandas as pd\n",
    "\n",
    "colums = [\"curricular_units_1st_sem_grade_rounded\", \"curricular_units_1st_sem_evaluations\", \"curricular_units_1st_sem_approved\",\n",
    "          \"curricular_units_2nd_sem_grade_rounded\", \"curricular_units_2nd_sem_evaluations\", \"curricular_units_2nd_sem_approved\",\n",
    "          \"course\", \"previous_qualification\", \"special_needs\"]\n",
    "\n",
    "classifier_test_framework = ClassifierTestFramework(df, colums)\n",
    "\n",
    "classifier_test_framework.add_classifier(\"DecisionTree\", tree.DecisionTreeClassifier())\n",
    "classifier_test_framework.add_classifier(\"knn\", Pipeline(\n",
    "    steps=[(\"scaler\", StandardScaler()), (\"knn\", KNeighborsClassifier(n_neighbors=5))]\n",
    "))\n",
    "classifier_test_framework.add_classifier(\"Naive_bayes\", GaussianNB())\n",
    "classifier_test_framework.add_classifier(\"Ensemble_method\", RandomForestClassifier(n_estimators=10))\n",
    "for key, report in classifier_test_framework.get_results().items():\n",
    "    print(f\"==={key}===\")\n",
    "    print(report)"
   ],
   "id": "73794f61127abed3",
   "outputs": [
    {
     "name": "stdout",
     "output_type": "stream",
     "text": [
      "===DecisionTree===\n",
      "              precision    recall  f1-score   support\n",
      "\n",
      "           0       0.78      0.76      0.77       227\n",
      "           1       0.85      0.86      0.85       354\n",
      "\n",
      "    accuracy                           0.82       581\n",
      "   macro avg       0.81      0.81      0.81       581\n",
      "weighted avg       0.82      0.82      0.82       581\n",
      "\n",
      "===knn===\n",
      "              precision    recall  f1-score   support\n",
      "\n",
      "           0       0.95      0.73      0.82       227\n",
      "           1       0.85      0.97      0.91       354\n",
      "\n",
      "    accuracy                           0.88       581\n",
      "   macro avg       0.90      0.85      0.86       581\n",
      "weighted avg       0.89      0.88      0.87       581\n",
      "\n",
      "===Naive_bayes===\n",
      "              precision    recall  f1-score   support\n",
      "\n",
      "           0       0.92      0.68      0.78       227\n",
      "           1       0.82      0.96      0.89       354\n",
      "\n",
      "    accuracy                           0.85       581\n",
      "   macro avg       0.87      0.82      0.83       581\n",
      "weighted avg       0.86      0.85      0.85       581\n",
      "\n",
      "===Ensemble_method===\n",
      "              precision    recall  f1-score   support\n",
      "\n",
      "           0       0.91      0.78      0.84       227\n",
      "           1       0.87      0.95      0.91       354\n",
      "\n",
      "    accuracy                           0.88       581\n",
      "   macro avg       0.89      0.87      0.88       581\n",
      "weighted avg       0.89      0.88      0.88       581\n",
      "\n"
     ]
    }
   ],
   "execution_count": 8
  }
 ],
 "metadata": {
  "kernelspec": {
   "display_name": "Python 3",
   "language": "python",
   "name": "python3"
  },
  "language_info": {
   "codemirror_mode": {
    "name": "ipython",
    "version": 2
   },
   "file_extension": ".py",
   "mimetype": "text/x-python",
   "name": "python",
   "nbconvert_exporter": "python",
   "pygments_lexer": "ipython2",
   "version": "2.7.6"
  }
 },
 "nbformat": 4,
 "nbformat_minor": 5
}
